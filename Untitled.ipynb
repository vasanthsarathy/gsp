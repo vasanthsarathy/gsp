{
 "cells": [
  {
   "cell_type": "code",
   "execution_count": 1,
   "id": "826ed956-d969-47ee-bf22-9cf199b7143c",
   "metadata": {},
   "outputs": [],
   "source": [
    "import json\n",
    "import pandas as pd\n"
   ]
  },
  {
   "cell_type": "code",
   "execution_count": 2,
   "id": "7cf6233a-ac9b-4f8b-9f13-f77ff38aa0bc",
   "metadata": {},
   "outputs": [],
   "source": [
    "f_translator_name = \"data/evals/translator-simple_english-30k-no-context-falcon-7b_evaluation.json\"\n",
    "with open(f_translator_name, \"r\") as f:\n",
    "    f_translator = json.load(f)\n",
    "    "
   ]
  },
  {
   "cell_type": "code",
   "execution_count": 3,
   "id": "edf6b2dd-9e0c-4b3c-ab29-7dc3a4a9d35a",
   "metadata": {},
   "outputs": [
    {
     "data": {
      "text/plain": [
       "2253"
      ]
     },
     "execution_count": 3,
     "metadata": {},
     "output_type": "execute_result"
    }
   ],
   "source": [
    "len(f_translator)"
   ]
  },
  {
   "cell_type": "code",
   "execution_count": 6,
   "id": "4e78c0a5-6b43-4625-9b08-84f4b47a577f",
   "metadata": {},
   "outputs": [
    {
     "data": {
      "text/plain": [
       "{'utterance': 'the dog is cheap, wait, i mean, the bird is cheap',\n",
       " 'goal_semantics': 'STATEMENT(tyler,self:agent,propertyOf(VAR0,cheap),{bird(VAR0),DEFINITE(VAR0)})',\n",
       " 'base_utterance': 'the bird is cheap',\n",
       " 'json_semantics': \"{'intent': 'STATEMENT', 'central_proposition': 'propertyOf(VAR0,cheap)', 'supplemental_semantics': ['bird(VAR0)']}\",\n",
       " 'intent': 'STATEMENT',\n",
       " 'central_proposition': 'propertyOf(VAR0,cheap)',\n",
       " 'supplemental_semantics': \"['bird(VAR0)']\",\n",
       " 'stylizer': 'style:CorrectionStyleAugmenter',\n",
       " 'augmenter': None,\n",
       " 'actions': \"['putabove', 'handleAck', 'take', 'stopVisualSearch', 'putoutside', 'putagainst', 'putrightof', 'putamong', 'getTime', 'putbehind', 'putbelow', 'lookForObject', 'initSearchesDemo', 'puton', 'putinside', 'putallover', 'startVisualSearch', 'putalong', 'findObject', 'translateLastGoal', 'initSearches', 'putleftof', 'getCurrGoals', 'clearrelations', 'findGraspableObject', 'handleGreeting', 'putbeside', 'putinfrontof']\",\n",
       " 'properties': '[\\'doit\\', \\'dothis\\', \\'dothat\\', \\'that\\', \\'this\\', \\'it\\', \\'that\\', \\'thing\\', \\'those\\', \\'they\\', \\'these\\', \\'this\\', \\'physobj\\', \\'at\\', \\'person\\', \\'bicycle\\', \\'car\\', \\'motorcycle\\', \\'airplane\\', \\'bus\\', \\'train\\', \\'truck\\', \\'boat\\', \\'trafficlight\\', \\'firehydrant\\', \\'stopsign\\', \\'parkingmeter\\', \\'bench\\', \\'bird\\', \\'cat\\', \\'dog\\', \\'horse\\', \\'sheep\\', \\'cow\\', \\'elephant\\', \\'bear\\', \\'zebra\\', \\'giraffe\\', \\'backpack\\', \\'umbrella\\', \\'handbag\\', \\'tie\\', \\'suitcase\\', \\'frisbee\\', \\'skis\\', \\'snowboard\\', \\'sports ball\\', \\'kite\\', \\'baseballbat\\', \\'baseballglove\\', \\'skateboard\\', \\'surfboard\\', \\'tennisracket\\', \\'bottle\\', \\'wineglass\\', \\'cup\\', \\'fork\\', \\'knife\\', \\'spoon\\', \\'bowl\\', \\'banana\\', \\'apple\\', \\'sandwich\\', \\'orange\\', \\'broccoli\\', \\'carrot\\', \\'hotdog\\', \\'pizza\\', \\'donut\\', \\'cake\\', \\'chair\\', \\'couch\\', \\'pottedplant\\', \\'bed\\', \\'diningtable\\', \\'toilet\\', \\'tv\\', \\'laptop\\', \\'mouse\\', \\'remote\\', \\'keyboard\\', \\'cellphone\\', \\'microwave\\', \\'oven\\', \\'toaster\\', \\'sink\\', \\'refrigerator\\', \\'book\\', \\'clock\\', \\'vase\\', \\'scissors\\', \\'teddybear\\', \\'hairdrier\\', \\'toothbrush\\', \\'medicine\\', \\'bandagebox\\', \\'painkillers\\', \\'mug\\', \\'bag\\', \\'glass\\', \\'camera\\', \\'box\\', \\'blue\\', \\'red\\', \\'yellow\\', \\'heavy\\', \"evan\\'s\", \"vasanth\\'s\", \"chris\\'\", \\'pretty\\', \\'scary\\', \\'expensive\\', \\'orange\\', \\'purple\\', \\'green\\', \\'cheap\\', \\'light\\', \"marlow\\'s\", \"ravenna\\'s\", \\'it\\', \\'this\\', \\'that\\', \\'thing\\', \\'those\\', \\'they\\', \\'these\\']',\n",
       " 'prompt_template': '\\n### instruction\\n{instruction_simple}\\n\\n### example\\n{example_simple}\\n\\n### utterance\\n{input}\\n\\n### simple: \\n{output}\\n',\n",
       " 'text': '\\n### instruction\\nGiven an utterance, translate into a simpler sentence structure.\\n\\n### example\\n\\nHere is an example of translating an utterance to a simpler structure. \\nutterance:\\nif it is not too much trouble um can you please put the potted plant outside the skis\\n\\nsimple:\\nput the potted plant outside of the skis\\n\\n\\n### utterance\\nthe dog is cheap, wait, i mean, the bird is cheap\\n\\n### simple: \\nthe bird is cheap\\n',\n",
       " 'input': 'the dog is cheap, wait, i mean, the bird is cheap',\n",
       " 'output': 'the bird is cheap',\n",
       " 'instruction': 'Given an utterance, translate into a simpler sentence structure.\\n\\n\\nHere is an example of translating an utterance to a simpler structure. \\nutterance:\\nif it is not too much trouble um can you please put the potted plant outside the skis\\n\\nsimple:\\nput the potted plant outside of the skis\\n',\n",
       " 'predicted': 'the bird is cheap, wait the',\n",
       " 'model': 'vsarathy/translator-simple_english-30k-no-context-falcon-7b',\n",
       " 'base_model': 'tiiuae/falcon-7b'}"
      ]
     },
     "execution_count": 6,
     "metadata": {},
     "output_type": "execute_result"
    }
   ],
   "source": [
    "f_translator[110]"
   ]
  },
  {
   "cell_type": "code",
   "execution_count": null,
   "id": "7fef2a0f-4c69-4604-b55f-286d4002367f",
   "metadata": {},
   "outputs": [],
   "source": []
  }
 ],
 "metadata": {
  "kernelspec": {
   "display_name": "Python 3 (ipykernel)",
   "language": "python",
   "name": "python3"
  },
  "language_info": {
   "codemirror_mode": {
    "name": "ipython",
    "version": 3
   },
   "file_extension": ".py",
   "mimetype": "text/x-python",
   "name": "python",
   "nbconvert_exporter": "python",
   "pygments_lexer": "ipython3",
   "version": "3.10.13"
  }
 },
 "nbformat": 4,
 "nbformat_minor": 5
}
