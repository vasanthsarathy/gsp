{
 "cells": [
  {
   "cell_type": "markdown",
   "id": "4790bfe6",
   "metadata": {},
   "source": [
    "# V1\n",
    "\n",
    "The goal of this is to get a basic version up and running\n",
    "\n",
    "Approach 1\n",
    "- Infer dialog act\n",
    "- Look only at action names at first (maybe descriptions), if ambiguous, then look at action signatures, if ambiguous look at pre/eff, if still ambiguous ask for clarification. \n",
    "    - Need to be more general here. The imperative could be specifying a sequence of actions (not sure DIARC can handle this anyway), or an action that cannot occur unless another action is performed first --> constant interaction with planner is needed. Sometimes action imperatives are even just goal directives in disguise (go to the door --> no goToDoor action, but at(door) is a possible state. How to convert \"go to\" to \"be at\". \"put two blue blocks on top of the red one\". \n",
    "\n",
    "\n",
    "idea\n",
    "- Check if action names exist, if not then reword the utterance as a goal, and see if it can be handled that way\n",
    "- If only one name exists, then check action signature and types\n",
    "    - if that works, then check if precons are met, and if so, perform action\n",
    "    - If not, then set precons as goal, plan and generate action sequence, and then also perform target action\n",
    "- If multiple matches, then check to see the \"best\" action signature\n",
    "    - Select best action signature by \n",
    "\n",
    "Other things:\n",
    "- Get a pddl-based planner involved --> external calls \n",
    "\n",
    "Variations\n",
    "- human involvement could include providing some set of conditions that specify several states, or they provide a a group of actions (a miniplan) and refer to that by a name\n",
    "- human could provide action performance constraints - do X, but don't touch Y.\n",
    "\n",
    "- Challenges with reference resolution .\n"
   ]
  },
  {
   "cell_type": "code",
   "execution_count": 14,
   "id": "273036bc",
   "metadata": {},
   "outputs": [],
   "source": [
    "# Spot testing\n",
    "data = [{\"utterance\": \"Pick up the ball\", \"act\": \"INSTRUCT\"},\n",
    "       {\"utterance\": \"Get the circuit breaker on the work area\", \"act\": \"INSTRUCT\"},\n",
    "       {\"utterance\": \"First raise your arms\", \"act\": \"INSTRUCT\"},\n",
    "       {\"utterance\": \"Dempster, who do you trust?\", \"act\": \"QUESTION\"},\n",
    "       {\"utterance\": \"Dempster, do you see an object?\", \"act\": \"QUESTION\"},\n",
    "       {\"utterance\": \"The area behind you is safe\", \"act\": \"STATEMENT\"},\n",
    "       {\"utterance\": \"The object in front of you is a ball\", \"act\": \"STATEMENT\"},\n",
    "       {\"utterance\": \"It uses a medical caddy\", \"act\": \"STATEMENT\"}]\n",
    "\n",
    "intents = [\"INSTRUCT\", \"QUESTION\", \"STATEMENT\"]\n"
   ]
  },
  {
   "cell_type": "code",
   "execution_count": 15,
   "id": "daf4fe12",
   "metadata": {},
   "outputs": [],
   "source": [
    "from langchain.prompts import PromptTemplate\n",
    "from langchain.llms import OpenAI\n",
    "from langchain.chat_models import ChatOpenAI\n",
    "from langchain.chains import LLMChain"
   ]
  },
  {
   "cell_type": "code",
   "execution_count": 16,
   "id": "c54827b6",
   "metadata": {},
   "outputs": [],
   "source": [
    "#llm = ChatOpenAI(model_name=\"gpt-4\", temperature=0.0)\n",
    "llm = OpenAI(temperature=0.0)"
   ]
  },
  {
   "cell_type": "code",
   "execution_count": 17,
   "id": "094f3cf9",
   "metadata": {},
   "outputs": [],
   "source": [
    "# CHAINS\n",
    "\n",
    "template_dialog_act_classifier= \"\"\"\n",
    "Decide whether the utterance below from a speaker to a listener is an INSTRUCT, QUESTION or STATEMENT. \n",
    "An INSTRUCT is an imperative statement or a request by the speaker to have the listener do an action.\n",
    "A QUESTION is a query or request from a speaker for more information from the listener about the listeners knowledge, beliefs or perceptions\n",
    "A STATEMENT is a statement of fact or opinion that the speaker conveys to a listener. \n",
    "\n",
    "utterance: \\n{utterance}\\n\n",
    "act:\n",
    "\"\"\"\n",
    "\n",
    "prompt_dialog_act_classifier = PromptTemplate(\n",
    "    input_variables=[\"utterance\"],\n",
    "    template=template_dialog_act_classifier\n",
    ")\n",
    "\n",
    "chain_dialog_act_classifier = LLMChain(llm=llm, prompt=prompt_dialog_act_classifier)\n",
    "\n"
   ]
  },
  {
   "cell_type": "code",
   "execution_count": 18,
   "id": "0b8a36a5",
   "metadata": {},
   "outputs": [],
   "source": [
    "def parse(utterance):\n",
    "    print(f\"Utterance: {utterance}\")\n",
    "    act = chain_dialog_act_classifier.run(utterance=utterance)\n",
    "    \n",
    "    output = {'utterance': utterance,\n",
    "              'act':act,}\n",
    "    return output\n"
   ]
  },
  {
   "cell_type": "code",
   "execution_count": 19,
   "id": "905fe292",
   "metadata": {},
   "outputs": [
    {
     "name": "stdout",
     "output_type": "stream",
     "text": [
      "Utterance: Pick up the ball\n",
      "{'utterance': 'Pick up the ball', 'act': 'INSTRUCT'}\n",
      "Utterance: Get the circuit breaker on the work area\n",
      "{'utterance': 'Get the circuit breaker on the work area', 'act': 'INSTRUCT'}\n",
      "Utterance: First raise your arms\n",
      "{'utterance': 'First raise your arms', 'act': 'INSTRUCT'}\n",
      "Utterance: Dempster, who do you trust?\n",
      "{'utterance': 'Dempster, who do you trust?', 'act': 'QUESTION'}\n",
      "Utterance: Dempster, do you see an object?\n",
      "{'utterance': 'Dempster, do you see an object?', 'act': 'QUESTION'}\n",
      "Utterance: The area behind you is safe\n",
      "{'utterance': 'The area behind you is safe', 'act': 'STATEMENT'}\n",
      "Utterance: The object in front of you is a ball\n",
      "{'utterance': 'The object in front of you is a ball', 'act': 'STATEMENT'}\n",
      "Utterance: It uses a medical caddy\n",
      "{'utterance': 'It uses a medical caddy', 'act': 'STATEMENT'}\n"
     ]
    }
   ],
   "source": [
    "for item in data:\n",
    "    output = parse(item['utterance'])\n",
    "    print(output)\n",
    "    assert output['act'] == item['act']\n",
    "    "
   ]
  },
  {
   "cell_type": "code",
   "execution_count": null,
   "id": "d98370b1",
   "metadata": {},
   "outputs": [],
   "source": []
  }
 ],
 "metadata": {
  "kernelspec": {
   "display_name": "Python 3 (ipykernel)",
   "language": "python",
   "name": "python3"
  },
  "language_info": {
   "codemirror_mode": {
    "name": "ipython",
    "version": 3
   },
   "file_extension": ".py",
   "mimetype": "text/x-python",
   "name": "python",
   "nbconvert_exporter": "python",
   "pygments_lexer": "ipython3",
   "version": "3.10.11"
  }
 },
 "nbformat": 4,
 "nbformat_minor": 5
}
