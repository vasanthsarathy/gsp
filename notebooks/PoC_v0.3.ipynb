{
 "cells": [
  {
   "cell_type": "markdown",
   "id": "44deaadf",
   "metadata": {},
   "source": [
    "# Version 3\n",
    "\n",
    "The basic idea here is to extract the CPC first. This is the `core propositional content` or the the central thing that the speaker is talking about -- Could be an action or concept. In either case, it is the thing that the listener is not exepected to have presupposed. E.g., \"The purple box is open\". There the listener is expected to know about the purple box, but not that it is open. \n",
    "\n",
    "Algorithm (Based on the notion of \"Quinian Bootstrapping\") \n",
    "1. Tethering to an LLM's conceptual knowledge\n",
    "    1. Classify speech act\n",
    "    2. Extract cpc\n",
    "    3. Tethering cpc symbol to conceptual commonsense knowledge. Look up typical possible predicate-arguments for cpc, and generate a set of candidate CPC predicate definitions \n",
    "        - name(arg_type1, arg_type2)\n",
    "        - If multiple, then keep them all. \n",
    "    4. Extract SPCs\n",
    "        - what are the central referents likely associated with the identified CPCs. Which CPCs are likely going to work \n",
    "        - supporting referents\n",
    "        - properties of each\n",
    "        - relations between each \n",
    "    5. What we get is a candidate set of CPC predicate definitions and SPC definitions. Specifically, we get a set of `placeholder symbols` that we must next relate to known symbols.  \n",
    "\n",
    "2. Tethering to Grounded Capabilities --> through constraint sat.\n",
    "    1. I"
   ]
  },
  {
   "cell_type": "code",
   "execution_count": null,
   "id": "8d128075",
   "metadata": {},
   "outputs": [],
   "source": []
  }
 ],
 "metadata": {
  "kernelspec": {
   "display_name": "Python 3 (ipykernel)",
   "language": "python",
   "name": "python3"
  },
  "language_info": {
   "codemirror_mode": {
    "name": "ipython",
    "version": 3
   },
   "file_extension": ".py",
   "mimetype": "text/x-python",
   "name": "python",
   "nbconvert_exporter": "python",
   "pygments_lexer": "ipython3",
   "version": "3.10.9"
  }
 },
 "nbformat": 4,
 "nbformat_minor": 5
}
