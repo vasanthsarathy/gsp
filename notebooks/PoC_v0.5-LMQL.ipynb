{
 "cells": [
  {
   "cell_type": "markdown",
   "id": "f40eec14-d8f4-4ac5-9e69-44145968bc4b",
   "metadata": {},
   "source": [
    "## LMQL-based Constraint-Guided Decoding for Understanding Human Speech in Embodied Contexts\n",
    "\n",
    "The core idea is to encode speech-act theoretic notions in constraint-guided decoding. The key challenges are:\n",
    "\n",
    "1. Extracting components -- informational content (incl. what objects are they talking about), human intentions for what they want the agent to do with the information\n",
    "2. The terms being extracted are groundable in the robotic action/perception repertoire (collectively, \"robot capabilities\") -- this is what it means for a robot to \"understand\".\n",
    "3. Linking terms with variables -- that is in the command \"pick up the blue ball\", the pickup(), blue() and ball() and DEFINITE() are all refering to the same domain entity -- ball -- which may or may not exist in the real world, but needs a shared identifier for the robot to properly satisfy perceptual constraints"
   ]
  },
  {
   "cell_type": "code",
   "execution_count": 2,
   "id": "73b9cdc4-8125-4667-ba82-3468ceabfded",
   "metadata": {},
   "outputs": [],
   "source": [
    "# Imports\n",
    "\n",
    "import lmql\n",
    "import asyncio"
   ]
  },
  {
   "cell_type": "code",
   "execution_count": null,
   "id": "0e71cfa8-eebb-4c7c-b36c-bf4832976e11",
   "metadata": {},
   "outputs": [],
   "source": [
    "schema = ```\n",
    "        referents: [\n",
    "            {\"text\": \"m3 screw\", \n",
    "            \"type\": \"physobj\",\n",
    "            \"variable_name\": \"VAR0\",\n",
    "            \"cognitive status\": \"ACTIVATED\",\n",
    "            \"role\": \"central\"},\n",
    "            \n",
    "            {\"text\": \"evan\", \n",
    "            \"type\": \"agent\",\n",
    "            \"variable_name\": \"VAR1\",\n",
    "            \"cognitive status\": \"FAMILIAR\",\n",
    "            \"role\": \"supplemental\"}\n",
    "            ]\n",
    "            \n",
    "        descriptors = [\n",
    "            {\"text\": \"m3 screw\", \n",
    "            \"name\": \"m3\",\n",
    "            \"arguments\": [\"VAR0\"] },\n",
    "            \n",
    "            {\"text\": \"evan\", \n",
    "            \"name\": \"NONE\",\n",
    "            \"arguments\": [] }\n",
    "            ]\n",
    "        \n",
    "        intention: {\n",
    "            \"speech_act\": \"wantBel\",\n",
    "            \"proposition\":\n",
    "                {\"text\": belonging\",\n",
    "                \"type\": \"concept\",\n",
    "                \"arguments\": [\"VAR0\", \"VAR1\"]}\n",
    "            }\n",
    "               \n",
    "            \n",
    "```"
   ]
  },
  {
   "cell_type": "code",
   "execution_count": 17,
   "id": "9e920d70-eeec-47f3-b2b7-a179f6cc3bec",
   "metadata": {},
   "outputs": [
    {
     "data": {
      "text/plain": [
       "{'INTENT': 'want'}"
      ]
     },
     "execution_count": 17,
     "metadata": {},
     "output_type": "execute_result"
    }
   ],
   "source": [
    "\n",
    "@lmql.query\n",
    "async def get_intent(utterance):\n",
    "    '''\n",
    "    argmax \n",
    "        \"Utterances have three intents: (1) want, (2) wantBel and (3) itk. A 'want' is an imperative statement or a request by the speaker to have the listener do an action or stop doing an action. An 'itk' is a 'wh' or 'yes/no' query (what, why, when, where, who) or request from a speaker for more information from the listener about the listeners knowledge, beliefs or perceptions. A 'wantBel' (note the uppercase B) is a statement of fact or opinion that the speaker conveys to a listener and  expects to listener to come to believe.\" \n",
    "        \"Based on these definitions of intents, when a listener hears a speaker say '{utterance}', the listener comes to believe that the speaker's intent is [INTENT].\"\n",
    "    from\n",
    "        \"openai/text-davinci-003\" \n",
    "    where\n",
    "        INTENT in [\"want\", \"wantBel\", \"itk\"]\n",
    "    '''\n",
    "    \n",
    "intent = (await get_intent(\"can you pick up the ball\"))[0].variables['INTENT']"
   ]
  },
  {
   "cell_type": "code",
   "execution_count": 30,
   "id": "18c7994d-8c9a-4f13-91fc-6e44c5a78176",
   "metadata": {},
   "outputs": [
    {
     "name": "stdout",
     "output_type": "stream",
     "text": [
      "Central Referent:  the ball.\n"
     ]
    }
   ],
   "source": [
    "@lmql.query\n",
    "async def get_central_referent(utterance):\n",
    "    '''\n",
    "    argmax \n",
    "        \"The central item or referent (which could be a single thing or a collection of things) that is being referred to in the utterance: {utterance} is [CENTRAL_REFERENT]. Remember, the central referent is a thing or object, not an action or descriptor.It is meant to capture the central real world item being referenced in the utterance.\" \n",
    "    from\n",
    "        \"openai/text-davinci-003\" \n",
    "    '''\n",
    "    \n",
    "central_referent = (await get_central_referent(\"can you pick up the ball\"))[0].variables['CENTRAL_REFERENT'].strip()\n",
    "print(\"Central Referent: \", central_referent)"
   ]
  },
  {
   "cell_type": "code",
   "execution_count": 21,
   "id": "8108934d-229d-40bb-bec1-5b51c11d6a72",
   "metadata": {},
   "outputs": [
    {
     "data": {
      "text/plain": [
       "{'INTENT': '',\n",
       " 'CENTRAL_REFERENT': '',\n",
       " 'CENTRAL_REFERENT_TYPE': '',\n",
       " 'SUPPLEMENTAL_REFERENTS': '',\n",
       " 'SUPPLEMENTAL_REFERENT_TYPES': '',\n",
       " 'CPC_TYPE': '',\n",
       " 'CPC': ''}"
      ]
     },
     "execution_count": 21,
     "metadata": {},
     "output_type": "execute_result"
    }
   ],
   "source": [
    "\n",
    "\n",
    "@lmql.query\n",
    "async def parse(utterance):\n",
    "    '''\n",
    "    argmax \n",
    "        \"Utterances have three intents: (1) want, (2) wantBel and (3) itk. A 'want' is an imperative statement or a request by the speaker to have the listener do an action or stop doing an action. An 'itk' is a 'wh' or 'yes/no' query (what, why, when, where, who) or request from a speaker for more information from the listener about the listeners knowledge, beliefs or perceptions. A 'wantBel' (note the uppercase B) is a statement of fact or opinion that the speaker conveys to a listener and  expects to listener to come to believe.\" \n",
    "        \"Based on these definitions of intents, when a listener hears a speaker say '{utterance}', the listener comes to believe that the speaker's intent is [INTENT].\"\n",
    "        \"The central item (which could be a single thing or a collection of things) that is a real world item and that is being referred to in the utterance is [CENTRAL_REFERENT]\"\n",
    "        \"This [CENTRAL_REFERENT] is of a [CENTRAL_REFERENT_TYPE]. For example in the utterance 'pick up the lemon on the table', the central referent or item is the 'lemon' and it is of type 'physobj' because it is a physical object\"\n",
    "        \"The supplemental referents or items or other items (which could be a single thing or a collection of things) not including the [CENTRAL_REFERENT] that is mentioned in the utterance include [SUPPLEMENTAL_REFERENTS].\"\n",
    "        \"Each of these supplemental referents, as a [SUPPLEMENTAL_REFERENT_TYPES].\" \n",
    "        \"Based on the fact that the intent is [INTENT], if the intent is a 'want' then the [CPC_TYPE] is an 'action', otherwise it is a 'concept'. Now, from the utterance we know that the core propositional content is a [CPC].\" \n",
    "        \" If the type of cpc is an 'action', then the core propositional content (or cpc) is the action that is being performed on the central referent. If the type of cpc is a 'concept', then the core propositional content (or cpc) is a concept that is being associated with the central referent.\"\n",
    "        \n",
    "    from\n",
    "        \"openai/text-davinci-003\" \n",
    "    where        \"Parse the input utterance: {utterance}.\"\n",
    "        INTENT in [\"want\", \"wantBel\", \"itk\"] and CENTRAL_REFERENT_TYPE in [\"physobj\", \"location\"] and SUPPLEMENTAL_REFERENT_TYPES in [\"physobj\", \"location\"] and CPC_TYPE in [\"action\", \"concept\"]\n",
    "    '''\n",
    "    \n",
    "(await parse(\"can you pick up the ball\"))[0].variables\n",
    "\n"
   ]
  },
  {
   "cell_type": "code",
   "execution_count": 41,
   "id": "2e696a03-476f-4d87-8c54-f32db39a3c41",
   "metadata": {},
   "outputs": [
    {
     "data": {
      "text/plain": [
       "{'INTENT': 'wantBel',\n",
       " 'CENTRAL_REF': ' \"blue ball\",\\n',\n",
       " 'SUPPLEMENTAL_REFERENT': ' None,\\n',\n",
       " 'CPC': ' \"pick up\"\\n}'}"
      ]
     },
     "execution_count": 41,
     "metadata": {},
     "output_type": "execute_result"
    }
   ],
   "source": [
    "@lmql.query\n",
    "async def get_parse_json(utterance):\n",
    "    '''\n",
    "    argmax \n",
    "    \n",
    "        \"Extract pragmatic and semantic parse of the utterance: {utterance}.\"\n",
    "        \"Intent: Utterances have three intents: (1) want, (2) wantBel and (3) itk. A 'want' is an imperative statement or a request by the speaker to have the listener do an action or stop doing an action. An 'itk' is a 'wh' or 'yes/no' query (what, why, when, where, who) or request from a speaker for more information from the listener about the listeners knowledge, beliefs or perceptions. A 'wantBel' (note the uppercase B) is a statement of fact or opinion that the speaker conveys to a listener and  expects to listener to come to believe.\" \n",
    "        \"central referent: The central item (which could be a single thing or a collection of things) that is a real world item and that is being referred to in the utterance\" \n",
    "        \"supplemental referents: These are also items that are not the central referent that are being mentioned in the utterance.\"\n",
    "        \"proposition: The core propositional content (single term) that is either the central action being mentioned or the central concept being mentioned. Remember, if the intent is a 'want' then the propsition should be some action, otherwise it should be a concept.\"\n",
    "        \"\"\"\n",
    "        {{\n",
    "          \"intent\": [INTENT],\n",
    "          \"central_referent\": [CENTRAL_REF],\n",
    "          \"supplemental_referent\": [SUPPLEMENTAL_REFERENT],\n",
    "          \"proposition\": [CPC]\n",
    "        }}\n",
    "        \"\"\"\n",
    "    from\n",
    "        \"openai/text-davinci-003\" \n",
    "    where\n",
    "        INTENT in [\"want\", \"wantBel\", \"itk\"] and STOPS_AT(SUPPLEMENTAL_REFERENT, \"\\n\") and STOPS_AT(CENTRAL_REF, \"\\n\")\n",
    "    '''\n",
    "    \n",
    "(await get_parse_json(\"pick up the blue ball\"))[0].variables"
   ]
  },
  {
   "cell_type": "code",
   "execution_count": null,
   "id": "4bb3cb39-71b7-4be7-b507-e33db3e4335d",
   "metadata": {},
   "outputs": [],
   "source": []
  }
 ],
 "metadata": {
  "kernelspec": {
   "display_name": "Python 3 (ipykernel)",
   "language": "python",
   "name": "python3"
  },
  "language_info": {
   "codemirror_mode": {
    "name": "ipython",
    "version": 3
   },
   "file_extension": ".py",
   "mimetype": "text/x-python",
   "name": "python",
   "nbconvert_exporter": "python",
   "pygments_lexer": "ipython3",
   "version": "3.10.13"
  }
 },
 "nbformat": 4,
 "nbformat_minor": 5
}
