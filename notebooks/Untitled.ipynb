{
 "cells": [
  {
   "cell_type": "code",
   "execution_count": null,
   "id": "c3003846-b46d-4b36-b760-248bfec42428",
   "metadata": {},
   "outputs": [],
   "source": [
    "\n",
    "def convert_to_json_goal_semantics(parse):\n",
    "    \"\"\"\n",
    "    \"INSTRUCT(tyler,self:agent,take(self:agent,VAR0),{pizza(VAR0),chair(VAR1),DEFINITE(VAR0),DEFINITE(VAR1)})\"\n",
    "\n",
    "    {{\n",
    "        \"intent\": \"INSTRUCT\",\n",
    "        \"central_proposition\": \"putoutside(self:agent,VAR0,VAR1)\",\n",
    "        \"supplemental_semantics\": [[ \"pottedplant(VAR0)\", \"skis(VAR1)\", \"DEFINITE(VAR0)\", \"DEFINITE(VAR1)\" ]]\n",
    "    }}\n",
    "\n",
    "    \"\"\"\n",
    "\n",
    "    supps = parse.split(\"{\")[1].split(\"}\")[0].strip().split(\n",
    "\n"
   ]
  },
  {
   "cell_type": "code",
   "execution_count": 49,
   "id": "d83d362e-940e-4ce8-aade-a47b67e25999",
   "metadata": {},
   "outputs": [],
   "source": [
    "text = \"INSTRUCT(tyler,self:agent,take(self:agent,VAR0),{pizza(VAR0),chair(VAR1),DEFINITE(VAR0),DEFINITE(VAR1)})\""
   ]
  },
  {
   "cell_type": "code",
   "execution_count": 50,
   "id": "52c762dc-fec5-48d3-971e-6786f2b146bc",
   "metadata": {},
   "outputs": [],
   "source": [
    "first = text.split(\"(\")"
   ]
  },
  {
   "cell_type": "code",
   "execution_count": 51,
   "id": "1beedff2-a18e-4206-979b-d70643b55a0b",
   "metadata": {},
   "outputs": [],
   "source": [
    "intent = first[0]"
   ]
  },
  {
   "cell_type": "code",
   "execution_count": 52,
   "id": "ff68800a-420d-48f8-993f-da2c63a13964",
   "metadata": {},
   "outputs": [
    {
     "data": {
      "text/plain": [
       "'INSTRUCT'"
      ]
     },
     "execution_count": 52,
     "metadata": {},
     "output_type": "execute_result"
    }
   ],
   "source": [
    "intent"
   ]
  },
  {
   "cell_type": "code",
   "execution_count": 53,
   "id": "8e973124-e426-4772-a36e-07c63f9a52e0",
   "metadata": {},
   "outputs": [
    {
     "data": {
      "text/plain": [
       "['INSTRUCT',\n",
       " 'tyler,self:agent,take',\n",
       " 'self:agent,VAR0),{pizza',\n",
       " 'VAR0),chair',\n",
       " 'VAR1),DEFINITE',\n",
       " 'VAR0),DEFINITE',\n",
       " 'VAR1)})']"
      ]
     },
     "execution_count": 53,
     "metadata": {},
     "output_type": "execute_result"
    }
   ],
   "source": [
    "first"
   ]
  },
  {
   "cell_type": "code",
   "execution_count": 55,
   "id": "3a99d07d-c7fe-4163-be3f-3904985a5799",
   "metadata": {},
   "outputs": [
    {
     "data": {
      "text/plain": [
       "('tyler', 'self:agent', 'take')"
      ]
     },
     "execution_count": 55,
     "metadata": {},
     "output_type": "execute_result"
    }
   ],
   "source": [
    "commander = first[1].split(\",\")[0]\n",
    "agent = first[1].split(\",\")[1]\n",
    "cpc = first[1].split(\",\")[2]\n",
    "\n",
    "commander, agent, cpc\n"
   ]
  },
  {
   "cell_type": "code",
   "execution_count": 56,
   "id": "9826e509-0bc1-44ab-99b0-0f5162d3a5a7",
   "metadata": {},
   "outputs": [
    {
     "data": {
      "text/plain": [
       "['self:agent', 'VAR0']"
      ]
     },
     "execution_count": 56,
     "metadata": {},
     "output_type": "execute_result"
    }
   ],
   "source": [
    "cpc_args = first[2].split(\")\")[0].split(\",\")\n",
    "cpc_args"
   ]
  },
  {
   "cell_type": "code",
   "execution_count": 57,
   "id": "7d0f9ebc-80e9-46a6-af3e-b7035c659ce4",
   "metadata": {},
   "outputs": [
    {
     "data": {
      "text/plain": [
       "'take(self:agent,VAR0)'"
      ]
     },
     "execution_count": 57,
     "metadata": {},
     "output_type": "execute_result"
    }
   ],
   "source": [
    "cpc_full = cpc+\"(\"+\",\".join(cpc_args)+\")\"\n",
    "cpc_full"
   ]
  },
  {
   "cell_type": "code",
   "execution_count": 60,
   "id": "3a19104e-8e72-4a82-afd9-7b1e5d856315",
   "metadata": {},
   "outputs": [
    {
     "data": {
      "text/plain": [
       "'pizza(VAR0),chair(VAR1),DEFINITE(VAR0),DEFINITE(VAR1)'"
      ]
     },
     "execution_count": 60,
     "metadata": {},
     "output_type": "execute_result"
    }
   ],
   "source": [
    "second = text.split(\"{\")[1].split(\"}\")[0]\n",
    "second"
   ]
  },
  {
   "cell_type": "code",
   "execution_count": 63,
   "id": "4a0f19d2-a0ec-49db-baa8-bcaa08a2ae87",
   "metadata": {},
   "outputs": [
    {
     "data": {
      "text/plain": [
       "['pizza(VAR0)', 'chair(VAR1)', 'DEFINITE(VAR0)', 'DEFINITE(VAR1))']"
      ]
     },
     "execution_count": 63,
     "metadata": {},
     "output_type": "execute_result"
    }
   ],
   "source": [
    "supp_all = [i+\")\" for i in second.split(\"),\")]\n",
    "supp_all"
   ]
  },
  {
   "cell_type": "code",
   "execution_count": 91,
   "id": "babf3b4d-9712-43e0-b313-97b73240a322",
   "metadata": {},
   "outputs": [],
   "source": [
    "# full extractor\n",
    "\n",
    "def deconstruct(text):\n",
    "    first = text.split(\"(\")\n",
    "    intent = first[0]\n",
    "    commander = first[1].split(\",\")[0]\n",
    "    agent = first[1].split(\",\")[1]\n",
    "    cpc = first[1].split(\",\")[2]\n",
    "    cpc_args = first[2].split(\")\")[0].split(\",\")\n",
    "    cpc_full = cpc+\"(\"+\",\".join(cpc_args)+\")\"\n",
    "    second = text.split(\"{\")[1].split(\"}\")[0].replace(\" \", \"\")\n",
    "    supp_all = [i+\")\" for i in second.split(\"),\")[:-1]]\n",
    "\n",
    "    deconstructed = {\"intent\": intent.strip(),\n",
    "            \"central_proposition\": cpc_full.strip(),\n",
    "            \"supplemental_semantics\": supp_all}\n",
    "    return deconstructed\n",
    "\n"
   ]
  },
  {
   "cell_type": "code",
   "execution_count": 95,
   "id": "1c708621-641e-4780-82ec-79f1357f9f0a",
   "metadata": {},
   "outputs": [
    {
     "name": "stdout",
     "output_type": "stream",
     "text": [
      "diningtable(VAR0),surfboard(VAR1),INDEFINITE(VAR0),DEFINITE(VAR1)\n",
      "{\n",
      "  \"intent\": \"INSTRUCT\",\n",
      "  \"central_proposition\": \"putbehind(self:agent,VAR0,VAR1)\",\n",
      "  \"supplemental_semantics\": [\n",
      "    \"diningtable(VAR0)\",\n",
      "    \"surfboard(VAR1)\",\n",
      "    \"INDEFINITE(VAR0)\"\n",
      "  ]\n",
      "}\n"
     ]
    }
   ],
   "source": [
    "import json\n",
    "\n",
    "text1 = \"INSTRUCT(tyler,self:agent,take(self:agent,VAR0),{pizza(VAR0),chair(VAR1),DEFINITE(VAR0),DEFINITE(VAR1)})\"\n",
    "text2 = \"STATEMENT(tyler,self:agent,belongs(self:agent,VAR0,VAR1),{pizza(VAR0),chair(VAR1), on(VAR0,VAR1), DEFINITE(VAR0),DEFINITE(VAR1)})\"\n",
    "text3 = \"INSTRUCT(tyler,self:agent,putbehind(self:agent,VAR0,VAR1),{diningtable(VAR0),surfboard(VAR1),INDEFINITE(VAR0),DEFINITE(VAR1)})\"\n",
    "print(json.dumps(deconstruct(text3), indent=2))"
   ]
  },
  {
   "cell_type": "code",
   "execution_count": 113,
   "id": "128fa468-6736-4d0b-98bc-62960c626de5",
   "metadata": {},
   "outputs": [
    {
     "data": {
      "text/plain": [
       "'Given an utterance and a context comprising a set of action and detection capabilities, extract a semantic parse of the utterance commensurate with the actions and detection abilities, and respond with the parse in a perfect JSON format.\\n\\n\\nHere is an example of a parse for an utterance. \\nutterance:\\nput the potted plant outside of the skis\\n\\naction capabilities:\\n[\\'startVisualSearch\\', \\'handleGreeting\\', \\'getTime\\', \\'initSearchesDemo\\', \\'putinside\\', \\'puton\\', \\'putleftof\\', \\'putbehind\\', \\'stopVisualSearch\\', \\'clearrelations\\', \\'translateLastGoal\\', \\'putagainst\\', \\'putoutside\\', \\'putalong\\', \\'take\\', \\'lookForObject\\', \\'putbeside\\', \\'initSearches\\', \\'putrightof\\', \\'getCurrGoals\\', \\'putallover\\', \\'handleAck\\', \\'putbelow\\', \\'putbetween\\', \\'putinfrontof\\', \\'findGraspableObject\\', \\'putabove\\', \\'findObject\\', \\'putamong\\']\\n\\ndetection capabilities:\\n[\\'doit\\', \\'dothis\\', \\'dothat\\', \\'that\\', \\'this\\', \\'physobj\\', \\'at\\', \\'person\\', \\'bicycle\\', \\'car\\', \\'motorcycle\\', \\'airplane\\', \\'bus\\', \\'train\\', \\'truck\\', \\'boat\\', \\'trafficlight\\', \\'firehydrant\\', \\'stopsign\\', \\'parkingmeter\\', \\'bench\\', \\'bird\\', \\'cat\\', \\'dog\\', \\'horse\\', \\'sheep\\', \\'cow\\', \\'elephant\\', \\'bear\\', \\'zebra\\', \\'giraffe\\', \\'backpack\\', \\'umbrella\\', \\'handbag\\', \\'tie\\', \\'suitcase\\', \\'frisbee\\', \\'skis\\', \\'snowboard\\', \\'sports ball\\', \\'kite\\', \\'baseballbat\\', \\'baseballglove\\', \\'skateboard\\', \\'surfboard\\', \\'tennisracket\\', \\'bottle\\', \\'wineglass\\', \\'cup\\', \\'fork\\', \\'knife\\', \\'spoon\\', \\'bowl\\', \\'banana\\', \\'apple\\', \\'sandwich\\', \\'orange\\', \\'broccoli\\', \\'carrot\\', \\'hotdog\\', \\'pizza\\', \\'donut\\', \\'cake\\', \\'chair\\', \\'couch\\', \\'pottedplant\\', \\'bed\\', \\'diningtable\\', \\'toilet\\', \\'tv\\', \\'laptop\\', \\'mouse\\', \\'remote\\', \\'keyboard\\', \\'cellphone\\', \\'microwave\\', \\'oven\\', \\'toaster\\', \\'sink\\', \\'refrigerator\\', \\'book\\', \\'clock\\', \\'vase\\', \\'scissors\\', \\'teddybear\\', \\'hairdrier\\', \\'toothbrush\\', \\'blue\\', \\'red\\', \\'yellow\\', \\'heavy\\', \"evan\\'s\", \"vasanth\\'s\", \\'it\\', \\'this\\', \\'that\\', \\'thing\\', \\'those\\', \\'they\\', \\'these\\', \\'this\\', \\'it\\', \\'that\\', \\'thing\\', \\'those\\', \\'they\\', \\'these\\']\\n\\n\\nJSON:\\n\\n{\\n    \"intent\": \"INSTRUCT\",\\n    \"central_proposition\": \"putoutside(self:agent,VAR0,VAR1)\",\\n    \"supplemental_semantics\": [[ \"pottedplant(VAR0)\", \"skis(VAR1)\", \"DEFINITE(VAR0)\", \"DEFINITE(VAR1)\" ]]\\n}\\n'"
      ]
     },
     "execution_count": 113,
     "metadata": {},
     "output_type": "execute_result"
    }
   ],
   "source": [
    "import pandas as pd\n",
    "\n",
    "df = pd.read_csv(\"../gsp/results/SpatialTrainingDataset2_stylized_finetuning_train.csv\", index_col=False)\n",
    "df.iloc[0]['instruction']"
   ]
  },
  {
   "cell_type": "code",
   "execution_count": 114,
   "id": "3d325957-d97c-4407-b09e-8d1c4ca85859",
   "metadata": {},
   "outputs": [
    {
     "data": {
      "text/plain": [
       "(3299, 15)"
      ]
     },
     "execution_count": 114,
     "metadata": {},
     "output_type": "execute_result"
    }
   ],
   "source": [
    "df.shape"
   ]
  },
  {
   "cell_type": "code",
   "execution_count": null,
   "id": "164a7851-56ef-41b8-aaf9-7ebc682a4484",
   "metadata": {},
   "outputs": [],
   "source": []
  }
 ],
 "metadata": {
  "kernelspec": {
   "display_name": "Python 3 (ipykernel)",
   "language": "python",
   "name": "python3"
  },
  "language_info": {
   "codemirror_mode": {
    "name": "ipython",
    "version": 3
   },
   "file_extension": ".py",
   "mimetype": "text/x-python",
   "name": "python",
   "nbconvert_exporter": "python",
   "pygments_lexer": "ipython3",
   "version": "3.10.13"
  }
 },
 "nbformat": 4,
 "nbformat_minor": 5
}
