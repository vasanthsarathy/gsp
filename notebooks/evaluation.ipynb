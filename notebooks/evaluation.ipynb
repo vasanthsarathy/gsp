{
 "cells": [
  {
   "cell_type": "markdown",
   "id": "9704ddfa-42b0-413c-9676-8a52dc9bbf61",
   "metadata": {},
   "source": [
    "## Evaluate\n",
    "\n",
    "Create an evaluator class and associated subclasses for my custom evaluators\n",
    "- \"CPC name checker\" - is_same_pred_name()\n",
    "- Supps name checker: \n",
    "- cog status checker \n",
    "- variable binding checker \n",
    "- valid json checker\n",
    "- valid cpc checker\n",
    "- valid supplemental semantics checker\n",
    "\n",
    "\n",
    "\n",
    "\n",
    "  "
   ]
  },
  {
   "cell_type": "code",
   "execution_count": 3,
   "id": "17ef48de-e355-466a-b704-134ddcb58f08",
   "metadata": {},
   "outputs": [],
   "source": [
    "predicted = {\n",
    "  \"intent\": \"INSTRUCT\",\n",
    "  \"central_proposition\": \"putleftof(self:agent,VAR0,VAR1)\",\n",
    "  \"supplemental_semantics\": [\n",
    "    \"hammer(VAR0)\",\n",
    "    \"diningtable(VAR1)\",\n",
    "    \"INDEFINITE(VAR0)\"\n",
    "  ]\n",
    "}\n",
    "\n",
    "truth = {\n",
    "  \"intent\": \"INSTRUCT\",\n",
    "  \"central_proposition\": \"putleftof(self:agent,VAR0,VAR1)\",\n",
    "  \"supplemental_semantics\": [\n",
    "    \"hammer(VAR0)\",\n",
    "    \"diningtable(VAR1)\",\n",
    "    \"INDEFINITE(VAR0)\"\n",
    "  ]\n",
    "}\n"
   ]
  },
  {
   "cell_type": "code",
   "execution_count": 37,
   "id": "c46ff9d9-c48a-4fd5-b088-a3d279f464cf",
   "metadata": {},
   "outputs": [
    {
     "data": {
      "text/plain": [
       "(['hammer', 'diningtable', 'indefinite', 'beebop'],\n",
       " ['indefinite', 'diningtable', 'hammer'])"
      ]
     },
     "execution_count": 37,
     "metadata": {},
     "output_type": "execute_result"
    }
   ],
   "source": [
    "\n",
    "def is_same_pred_name(predicted_pred, truth_pred):\n",
    "    if predicted_pred.split(\"(\")[0] == truth_pred.split(\"(\")[0]:\n",
    "        return True\n",
    "    return False\n",
    "\n",
    "def pred_name(pred):\n",
    "    return pred.split(\"(\")[0].lower()\n",
    "\n",
    "def pred_args(pred):\n",
    "    return pred.split(\"(\")[1].split(\")\")[0].split(\",\")\n",
    "    \n",
    "sups1 = [pred_name(i) for i in predicted['supplemental_semantics']]\n",
    "sups2 = [pred_name(i) for i in truth['supplemental_semantics']]\n",
    "sups2.reverse()\n",
    "set(sups1) == set(sups2)\n",
    "\n",
    "sups1.append(\"beebop\")\n",
    "\n",
    "sups1, sups2\n"
   ]
  },
  {
   "cell_type": "code",
   "execution_count": 34,
   "id": "b5792d98-9775-4d2b-a306-24e3b65af455",
   "metadata": {},
   "outputs": [],
   "source": [
    "int = set(sups1).intersection(set(sups2))"
   ]
  },
  {
   "cell_type": "code",
   "execution_count": 39,
   "id": "b1fa1302-f69a-43c7-af4b-64109b0243e2",
   "metadata": {},
   "outputs": [
    {
     "data": {
      "text/plain": [
       "['self:agent', 'VAR0', 'VAR1']"
      ]
     },
     "execution_count": 39,
     "metadata": {},
     "output_type": "execute_result"
    }
   ],
   "source": [
    "args = pred_args(\"putleftof(self:agent,VAR0,VAR1)\")\n",
    "args"
   ]
  },
  {
   "cell_type": "code",
   "execution_count": 35,
   "id": "25a4c1b3-d0a5-418e-a956-7fd4237092b3",
   "metadata": {},
   "outputs": [
    {
     "data": {
      "text/plain": [
       "{'diningtable', 'hammer', 'indefinite'}"
      ]
     },
     "execution_count": 35,
     "metadata": {},
     "output_type": "execute_result"
    }
   ],
   "source": [
    "int"
   ]
  },
  {
   "cell_type": "code",
   "execution_count": 36,
   "id": "b9742ad4-b964-4f96-a9c3-03c8c7fba5d8",
   "metadata": {},
   "outputs": [
    {
     "name": "stdout",
     "output_type": "stream",
     "text": [
      "0.75 1.0\n"
     ]
    }
   ],
   "source": [
    "precision = len(int)/len(sups1)\n",
    "recall = len(int)/len(sups2)\n",
    "print(precision, recall)"
   ]
  },
  {
   "cell_type": "code",
   "execution_count": null,
   "id": "fb99c273-4483-4a47-9944-ce576dfe18a1",
   "metadata": {},
   "outputs": [],
   "source": [
    "# Argument assignment \n",
    "# are the correct number of arguments present in the action\n",
    "# for each of the sups in the intersection, are the correct number of args present\n",
    "\n",
    "\n",
    "# Variable alignment\n",
    "# for each variable present in the cpc, are those variables correctly assigned \n",
    "\n"
   ]
  },
  {
   "cell_type": "markdown",
   "id": "d4a74723-d4d0-4a85-b277-b14dbb4aed59",
   "metadata": {},
   "source": [
    "## Evaluate\n",
    "\n",
    "- for each item in the dataset\n",
    "    - run the model to produce a json_semantics_predicted\n",
    "    - check if valid json\n",
    "    - check intent (t/f)\n",
    "    - check cpc name (t/f)\n",
    "    - if an INSTRUCT, was the CPC selected from action repertoire? (t/f)\n",
    "    - What number of supps are present in the properties repertoire \n",
    "    - check supps precision/recall\n",
    "    - check cpc args length (t/f)\n",
    "    - variable asignment check: check if variables are present in the right descriptors\n",
    "      - there is a prec and recall aspect here. there are two lists for each variable\n",
    "      - For each variable, there is predicted and truth set of supps that it is associated with\n",
    "      - For each variable there is a cpc position it is associated with\n",
    "      - E.g., VAR0: {blue, ball, on}, pickup(),   \"Pick up the blue ball on the table.\"\n",
    "    - variable ordering : on(VAR0, VAR1), table(VAR1), ball(VAR0). pickup(_, VAR0)\n",
    "    - "
   ]
  },
  {
   "cell_type": "code",
   "execution_count": null,
   "id": "8705c509-68a1-4774-bc27-0219270b96bf",
   "metadata": {},
   "outputs": [],
   "source": []
  }
 ],
 "metadata": {
  "kernelspec": {
   "display_name": "Python 3 (ipykernel)",
   "language": "python",
   "name": "python3"
  },
  "language_info": {
   "codemirror_mode": {
    "name": "ipython",
    "version": 3
   },
   "file_extension": ".py",
   "mimetype": "text/x-python",
   "name": "python",
   "nbconvert_exporter": "python",
   "pygments_lexer": "ipython3",
   "version": "3.10.13"
  }
 },
 "nbformat": 4,
 "nbformat_minor": 5
}
